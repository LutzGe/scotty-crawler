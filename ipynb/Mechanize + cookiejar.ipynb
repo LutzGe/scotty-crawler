{
 "cells": [
  {
   "cell_type": "code",
   "execution_count": 2,
   "metadata": {},
   "outputs": [],
   "source": [
    "import mechanize\n",
    "from bs4 import BeautifulSoup as bs\n",
    "import http.cookiejar as cookielib"
   ]
  },
  {
   "cell_type": "code",
   "execution_count": 3,
   "metadata": {},
   "outputs": [],
   "source": [
    "cookies = cookielib.CookieJar()  # cria um repositório de cookies\n",
    "browser = mechanize.Browser()    # inicia um browser\n",
    "browser.set_cookiejar(cookies)   # aponta para o seu repositório de cookies"
   ]
  },
  {
   "cell_type": "code",
   "execution_count": 4,
   "metadata": {},
   "outputs": [
    {
     "ename": "TypeError",
     "evalue": "open() missing 1 required positional argument: 'url_or_request'",
     "output_type": "error",
     "traceback": [
      "\u001b[0;31m---------------------------------------------------------------------------\u001b[0m",
      "\u001b[0;31mTypeError\u001b[0m                                 Traceback (most recent call last)",
      "\u001b[0;32m<ipython-input-4-326e2457ffee>\u001b[0m in \u001b[0;36m<module>\u001b[0;34m\u001b[0m\n\u001b[0;32m----> 1\u001b[0;31m \u001b[0mbrowser\u001b[0m\u001b[0;34m.\u001b[0m\u001b[0mopen\u001b[0m\u001b[0;34m(\u001b[0m\u001b[0;34m)\u001b[0m\u001b[0;34m\u001b[0m\u001b[0;34m\u001b[0m\u001b[0m\n\u001b[0m",
      "\u001b[0;31mTypeError\u001b[0m: open() missing 1 required positional argument: 'url_or_request'"
     ]
    }
   ],
   "source": [
    "browser.open()"
   ]
  },
  {
   "cell_type": "markdown",
   "metadata": {},
   "source": [
    "cookies:\n",
    "    '_ga':'GA1.2.1158204838.1587946442',\n",
    "    '_fbp':'fb.1.1587946448026.1682082518',\n",
    "    'rdtrk':'%7B%22id%22%3A%22bd72c211-34b0-46bd-953d-9a8d7d8c8641%22%7D',\n",
    "    '_hjid':'2e4a4acf-5b86-45ab-8df3-95606b559f50',\n",
    "    '_gcl_au':'1.1.363847812.1603670799',\n",
    "    '_gid':'GA1.2.1525585151.1610535875',\n",
    "    'nvg40934':'b4833404fc80007454f62ebe209|0_14',\n",
    "    'ci_session_files':'1s1e37q0tq4648lu05ss0n7df1che98k', '__trf.src':'encoded_eyJmaXJzdF9zZXNzaW9uIjp7InZhbHVlIjoiKG5vbmUpIiwiZXh0cmFfcGFyYW1zIjp7fX0sImN1cnJlbnRfc2Vzc2lvbiI6eyJ2YWx1ZSI6Iihub25lKSIsImV4dHJhX3BhcmFtcyI6e319LCJjcmVhdGVkX2F0IjoxNjEwNTY3ODgxMjAwfQ==',\n",
    "    'PHPSESSID_APLICACOES':'eicnlptdl31gv4vujrp0sikkf0'"
   ]
  }
 ],
 "metadata": {
  "kernelspec": {
   "display_name": "Python 3",
   "language": "python",
   "name": "python3"
  },
  "language_info": {
   "codemirror_mode": {
    "name": "ipython",
    "version": 3
   },
   "file_extension": ".py",
   "mimetype": "text/x-python",
   "name": "python",
   "nbconvert_exporter": "python",
   "pygments_lexer": "ipython3",
   "version": "3.9.1"
  }
 },
 "nbformat": 4,
 "nbformat_minor": 4
}
